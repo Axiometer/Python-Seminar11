{
 "cells": [
  {
   "attachments": {},
   "cell_type": "markdown",
   "metadata": {},
   "source": [
    "f(x) = -12x^4*sin(cos(x)) - 18x^3+5x^2 + 10x - 30\n",
    "\n",
    "1. Определить корни\n",
    "\n",
    "2. Найти интервалы, на которых функция возрастает\n",
    "\n",
    "3. Найти интервалы, на которых функция убывает\n",
    "\n",
    "4. Построить график\n",
    "\n",
    "5. Вычислить вершину\n",
    "\n",
    "6. Определить промежутки, на котором f > 0\n",
    "\n",
    "7. Определить промежутки, на котором f < 0"
   ]
  },
  {
   "cell_type": "code",
   "execution_count": 7,
   "metadata": {},
   "outputs": [],
   "source": [
    "import sympy\n",
    "import numpy as np\n",
    "import matplotlib.pyplot as plt\n"
   ]
  },
  {
   "cell_type": "code",
   "execution_count": 8,
   "metadata": {},
   "outputs": [],
   "source": [
    "a, b, c, d, e, x = sympy.symbols('a, b, c, d, e, x')\n",
    "params = {a:-12, b:-18, c:5, d:10, e: -30}\n"
   ]
  },
  {
   "cell_type": "code",
   "execution_count": 9,
   "metadata": {},
   "outputs": [
    {
     "data": {
      "text/latex": [
       "$\\displaystyle - 12 x^{4} \\sin{\\left(\\cos{\\left(x \\right)} \\right)} - 18 x^{3} + 5 x^{2} + 10 x - 30$"
      ],
      "text/plain": [
       "-12*x**4*sin(cos(x)) - 18*x**3 + 5*x**2 + 10*x - 30"
      ]
     },
     "execution_count": 9,
     "metadata": {},
     "output_type": "execute_result"
    }
   ],
   "source": [
    "x = sympy.Symbol('x')\n",
    "f = a*x**4*sympy.sin(sympy.cos(x)) + b*x**3 + c*x**2 + d*x + e\n",
    "f_par = f.subs(params)\n",
    "f_par"
   ]
  },
  {
   "cell_type": "code",
   "execution_count": 10,
   "metadata": {},
   "outputs": [
    {
     "data": {
      "text/latex": [
       "$\\displaystyle - a x^{4} \\sin{\\left(x \\right)} \\cos{\\left(\\cos{\\left(x \\right)} \\right)} + 4 a x^{3} \\sin{\\left(\\cos{\\left(x \\right)} \\right)} + 3 b x^{2} + 2 c x + d$"
      ],
      "text/plain": [
       "-a*x**4*sin(x)*cos(cos(x)) + 4*a*x**3*sin(cos(x)) + 3*b*x**2 + 2*c*x + d"
      ]
     },
     "execution_count": 10,
     "metadata": {},
     "output_type": "execute_result"
    }
   ],
   "source": [
    "df = sympy.diff(f, x)\n",
    "df"
   ]
  },
  {
   "cell_type": "code",
   "execution_count": 21,
   "metadata": {},
   "outputs": [
    {
     "data": {
      "image/png": "[encoded data removed]",
      "text/plain": [
       "<Figure size 640x480 with 1 Axes>"
      ]
     },
     "metadata": {},
     "output_type": "display_data"
    },
    {
     "ename": "TypeError",
     "evalue": "'NoneType' object is not iterable",
     "output_type": "error",
     "traceback": [
      "\u001b[1;31m---------------------------------------------------------------------------\u001b[0m",
      "\u001b[1;31mTypeError\u001b[0m                                 Traceback (most recent call last)",
      "Cell \u001b[1;32mIn[21], line 3\u001b[0m\n\u001b[0;32m      1\u001b[0m dif_par \u001b[39m=\u001b[39m df\u001b[39m.\u001b[39msubs(params)\n\u001b[0;32m      2\u001b[0m sympy\u001b[39m.\u001b[39mplot(dif_par, (x, \u001b[39m48\u001b[39m, \u001b[39m53\u001b[39m))\n\u001b[1;32m----> 3\u001b[0m sympy\u001b[39m.\u001b[39;49mplot([\u001b[39m48\u001b[39;49m, \u001b[39m52\u001b[39;49m, \u001b[39m1\u001b[39;49m], [\u001b[39m-\u001b[39;49m\u001b[39m4\u001b[39;49m, \u001b[39m4\u001b[39;49m, \u001b[39m1\u001b[39;49m])\n",
      "File \u001b[1;32md:\\GeekBrains\\.venv\\Lib\\site-packages\\sympy\\plotting\\plot.py:1869\u001b[0m, in \u001b[0;36mplot\u001b[1;34m(show, *args, **kwargs)\u001b[0m\n\u001b[0;32m   1867\u001b[0m series \u001b[39m=\u001b[39m []\n\u001b[0;32m   1868\u001b[0m plot_expr \u001b[39m=\u001b[39m check_arguments(args, \u001b[39m1\u001b[39m, \u001b[39m1\u001b[39m)\n\u001b[1;32m-> 1869\u001b[0m series \u001b[39m=\u001b[39m [LineOver1DRangeSeries(\u001b[39m*\u001b[39marg, \u001b[39m*\u001b[39m\u001b[39m*\u001b[39mkwargs) \u001b[39mfor\u001b[39;00m arg \u001b[39min\u001b[39;00m plot_expr]\n\u001b[0;32m   1871\u001b[0m plots \u001b[39m=\u001b[39m Plot(\u001b[39m*\u001b[39mseries, \u001b[39m*\u001b[39m\u001b[39m*\u001b[39mkwargs)\n\u001b[0;32m   1872\u001b[0m \u001b[39mif\u001b[39;00m show:\n",
      "\u001b[1;31mTypeError\u001b[0m: 'NoneType' object is not iterable"
     ]
    }
   ],
   "source": [
    "dif_par = df.subs(params)\n",
    "sympy.plot(dif_par, (x, 48, 53))\n",
    "sympy.plot([48, 52, 1], [-4, 4, 1], '0')"
   ]
  },
  {
   "cell_type": "code",
   "execution_count": null,
   "metadata": {},
   "outputs": [],
   "source": [
    "df_num = lambda xnum: df_par.subs( {x: xnum} ) \n",
    "\n",
    "\n",
    "optimize.root(fx, args=(-1))"
   ]
  },
  {
   "cell_type": "code",
   "execution_count": null,
   "metadata": {},
   "outputs": [],
   "source": [
    "sympy.plot(f_par, (x, -100, 100))"
   ]
  },
  {
   "cell_type": "code",
   "execution_count": null,
   "metadata": {},
   "outputs": [],
   "source": [
    "sympy.nsolve(f_par, 48)"
   ]
  },
  {
   "cell_type": "code",
   "execution_count": null,
   "metadata": {},
   "outputs": [],
   "source": [
    "sympy.nsolve(fx, -7)"
   ]
  },
  {
   "cell_type": "code",
   "execution_count": null,
   "metadata": {},
   "outputs": [],
   "source": [
    "sympy.nsolve(fx, -5)"
   ]
  },
  {
   "cell_type": "code",
   "execution_count": null,
   "metadata": {},
   "outputs": [],
   "source": [
    "sympy.nsolve(fx, 4)"
   ]
  },
  {
   "cell_type": "code",
   "execution_count": null,
   "metadata": {},
   "outputs": [],
   "source": [
    "sympy.nsolve(fx, 8)"
   ]
  },
  {
   "cell_type": "code",
   "execution_count": null,
   "metadata": {},
   "outputs": [],
   "source": [
    "dfx = sympy.diff(fx, x)\n",
    "dfx"
   ]
  }
 ],
 "metadata": {
  "kernelspec": {
   "display_name": ".venv",
   "language": "python",
   "name": "python3"
  },
  "language_info": {
   "codemirror_mode": {
    "name": "ipython",
    "version": 3
   },
   "file_extension": ".py",
   "mimetype": "text/x-python",
   "name": "python",
   "nbconvert_exporter": "python",
   "pygments_lexer": "ipython3",
   "version": "3.11.1"
  },
  "orig_nbformat": 4,
  "vscode": {
   "interpreter": {
    "hash": "1489a82f2935ef303c2ab566d03463a464ab1211b9cdd36c243327d90a95007d"
   }
  }
 },
 "nbformat": 4,
 "nbformat_minor": 2
}
